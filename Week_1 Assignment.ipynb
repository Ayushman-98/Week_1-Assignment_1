{
 "cells": [
  {
   "cell_type": "code",
   "execution_count": null,
   "id": "0cd22d88-a865-4113-bc29-5b860520771b",
   "metadata": {},
   "outputs": [],
   "source": [
    "# Answer of Q-1"
   ]
  },
  {
   "cell_type": "code",
   "execution_count": null,
   "id": "3f666398-781b-4ef5-871f-0ca463dffcbe",
   "metadata": {},
   "outputs": [],
   "source": [
    "#(i)\n",
    "b=\"ayushman\""
   ]
  },
  {
   "cell_type": "code",
   "execution_count": null,
   "id": "b14e89ea-d3bf-48b3-93aa-0e8c58768fef",
   "metadata": {},
   "outputs": [],
   "source": [
    "type(b)"
   ]
  },
  {
   "cell_type": "code",
   "execution_count": null,
   "id": "a63222d3-5b39-4d33-ab0f-2cb2e92d765b",
   "metadata": {},
   "outputs": [],
   "source": [
    "#(ii)\n",
    "c=[1,2,\"ayushman\",4,\"b\",\"v\"]"
   ]
  },
  {
   "cell_type": "code",
   "execution_count": null,
   "id": "6135e900-a6c7-4e95-8e20-531fcec8768f",
   "metadata": {},
   "outputs": [],
   "source": [
    "type(c)"
   ]
  },
  {
   "cell_type": "code",
   "execution_count": null,
   "id": "49cf33fa-8145-4c5c-ae9d-bef68575902c",
   "metadata": {},
   "outputs": [],
   "source": [
    "#(iii)\n",
    "d= 43.4"
   ]
  },
  {
   "cell_type": "code",
   "execution_count": null,
   "id": "cdebb7dd-db81-4a62-b2ee-1bafadcf0537",
   "metadata": {},
   "outputs": [],
   "source": [
    "type(d)"
   ]
  },
  {
   "cell_type": "code",
   "execution_count": null,
   "id": "7a261eec-b41d-47c3-b39a-4e1aebf750ec",
   "metadata": {},
   "outputs": [],
   "source": [
    "#(iv)\n",
    "f= (\"ayushman\",\"4\")"
   ]
  },
  {
   "cell_type": "code",
   "execution_count": null,
   "id": "05e888a7-d339-400e-9605-effe22ea581a",
   "metadata": {},
   "outputs": [],
   "source": [
    "type(f)"
   ]
  },
  {
   "cell_type": "code",
   "execution_count": null,
   "id": "b8410584-95f5-428c-a21b-e7476bbe69b6",
   "metadata": {},
   "outputs": [],
   "source": [
    "# Answer of Q-2"
   ]
  },
  {
   "cell_type": "code",
   "execution_count": null,
   "id": "dc4fdad5-5cc0-4958-b23e-25a3505093b7",
   "metadata": {},
   "outputs": [],
   "source": [
    "#(i)\n",
    "var1=' '"
   ]
  },
  {
   "cell_type": "code",
   "execution_count": null,
   "id": "6757a553-9618-4acb-ae16-700185da45ee",
   "metadata": {},
   "outputs": [],
   "source": [
    "type(var1)"
   ]
  },
  {
   "cell_type": "code",
   "execution_count": null,
   "id": "de7e505d-e48c-4eed-b594-5ff49474499f",
   "metadata": {},
   "outputs": [],
   "source": [
    "#(ii)\n",
    "var2='[DS,ML,Python]'"
   ]
  },
  {
   "cell_type": "code",
   "execution_count": null,
   "id": "dab64ff6-871f-478f-91cf-da2a1db1c2d0",
   "metadata": {},
   "outputs": [],
   "source": [
    "type(var2)"
   ]
  },
  {
   "cell_type": "code",
   "execution_count": null,
   "id": "91954efc-34eb-43ea-b64a-da2905ce83e6",
   "metadata": {},
   "outputs": [],
   "source": [
    "#(iii)\n",
    "var3=['DS','ML','Python']"
   ]
  },
  {
   "cell_type": "code",
   "execution_count": null,
   "id": "ac73cd07-d452-42e6-a7a0-d6875a67df05",
   "metadata": {},
   "outputs": [],
   "source": [
    "type(var3)"
   ]
  },
  {
   "cell_type": "code",
   "execution_count": null,
   "id": "7ae825f3-dcdb-40bc-9aa2-712dd95321a2",
   "metadata": {},
   "outputs": [],
   "source": [
    "#(iv)\n",
    "var4= 1"
   ]
  },
  {
   "cell_type": "code",
   "execution_count": null,
   "id": "8ee06e69-564d-451d-8bd6-5da38ae06e2e",
   "metadata": {},
   "outputs": [],
   "source": [
    "type(var4)"
   ]
  },
  {
   "cell_type": "code",
   "execution_count": null,
   "id": "e2061424-93da-47f9-b27c-2b772ca69592",
   "metadata": {},
   "outputs": [],
   "source": [
    "# Answer of Q-3"
   ]
  },
  {
   "cell_type": "code",
   "execution_count": null,
   "id": "d864765d-10ca-4b94-92ef-c9e09ef8c384",
   "metadata": {},
   "outputs": [],
   "source": [
    "#(i) / is used for divison i.e division operator\n",
    "b= 6/2"
   ]
  },
  {
   "cell_type": "code",
   "execution_count": null,
   "id": "b7a23236-e101-4650-ba3e-2f8014fb3885",
   "metadata": {},
   "outputs": [],
   "source": [
    "b"
   ]
  },
  {
   "cell_type": "code",
   "execution_count": null,
   "id": "58c970f0-4b08-4a0a-a6b0-a47cee9c6b05",
   "metadata": {},
   "outputs": [],
   "source": [
    "#(ii) % gives remainder i.e modulus operator\n",
    "c=5%2"
   ]
  },
  {
   "cell_type": "code",
   "execution_count": null,
   "id": "898ca236-b320-440d-b0fe-3eb4e82f6f6b",
   "metadata": {},
   "outputs": [],
   "source": [
    "c"
   ]
  },
  {
   "cell_type": "code",
   "execution_count": null,
   "id": "98427d40-a759-469a-bf62-15a9d87c846a",
   "metadata": {},
   "outputs": [],
   "source": [
    "#(iii) // gives quotient (nearest integer value)  and this operator is called as division floor operator\n",
    "j= 9//2"
   ]
  },
  {
   "cell_type": "code",
   "execution_count": null,
   "id": "54eb94f4-51ec-4f24-bfe3-77d666c0c2fa",
   "metadata": {},
   "outputs": [],
   "source": [
    "j"
   ]
  },
  {
   "cell_type": "code",
   "execution_count": null,
   "id": "768790e3-9218-448a-94ae-f08482177ce6",
   "metadata": {},
   "outputs": [],
   "source": [
    "#(iv) ** is an exponential operator\n",
    "g=3**3"
   ]
  },
  {
   "cell_type": "code",
   "execution_count": null,
   "id": "247b34fb-c7cf-4171-ae97-b042e9a4cbc2",
   "metadata": {},
   "outputs": [],
   "source": [
    "g"
   ]
  },
  {
   "cell_type": "code",
   "execution_count": null,
   "id": "bfbc2dbf-b390-461d-ad94-c95df37021af",
   "metadata": {},
   "outputs": [],
   "source": [
    "# Answer of Q-4\n",
    "l=[\"a\",\"ayush\",3,4,6,7.5,9.5, True, False, 10+7j]\n",
    "for i in l:\n",
    "   print(i, type(i))\n"
   ]
  },
  {
   "cell_type": "code",
   "execution_count": 206,
   "id": "b224ce11-960b-463d-aa82-87c956eb9fd8",
   "metadata": {},
   "outputs": [
    {
     "name": "stdout",
     "output_type": "stream",
     "text": [
      "1\n",
      "{A} is divisible by {B} 1 time\n",
      "2\n",
      "{A} is divisible by {B} 2 time\n"
     ]
    }
   ],
   "source": [
    "# Answer of Q-5\n",
    "A = 100  # Number to be divided\n",
    "B = 5  \n",
    "\n",
    "count = 0 \n",
    "\n",
    "while A % B == 0:\n",
    "    A = A / B\n",
    "    count += 1\n",
    "    print(count)\n",
    "    if count > 0:\n",
    "        print(\"{A} is divisible by {B}\", (count), \"time\")\n",
    "    else:\n",
    "         print(\"{A} is not divisible by {B}\")\n",
    "\n",
    "\n"
   ]
  },
  {
   "cell_type": "code",
   "execution_count": null,
   "id": "9c725668-e51c-4eba-9e80-3a8c14786af6",
   "metadata": {},
   "outputs": [
    {
     "name": "stdout",
     "output_type": "stream",
     "text": [
      "0\n",
      " it is divisible by 3\n",
      "1\n",
      " it is not divisible by3\n",
      "2\n",
      " it is not divisible by3\n",
      "3\n",
      " it is divisible by 3\n",
      "4\n",
      " it is not divisible by3\n",
      "5\n",
      " it is not divisible by3\n",
      "6\n",
      " it is divisible by 3\n",
      "7\n",
      " it is not divisible by3\n",
      "8\n",
      " it is not divisible by3\n",
      "9\n",
      " it is divisible by 3\n",
      "10\n",
      " it is not divisible by3\n",
      "11\n",
      " it is not divisible by3\n",
      "12\n",
      " it is divisible by 3\n",
      "13\n",
      " it is not divisible by3\n",
      "14\n",
      " it is not divisible by3\n",
      "15\n",
      " it is divisible by 3\n",
      "16\n",
      " it is not divisible by3\n",
      "17\n",
      " it is not divisible by3\n",
      "18\n",
      " it is divisible by 3\n",
      "19\n",
      " it is not divisible by3\n",
      "20\n",
      " it is not divisible by3\n",
      "21\n",
      " it is divisible by 3\n",
      "22\n",
      " it is not divisible by3\n",
      "23\n",
      " it is not divisible by3\n",
      "24\n",
      " it is divisible by 3\n",
      "25\n",
      " it is not divisible by3\n"
     ]
    }
   ],
   "source": [
    "# Answer of Q-6\n",
    "L= list(range(26))\n",
    "for i in L:\n",
    "    print(i)\n",
    "    if i%3 ==0:\n",
    "        print(\" it is divisible by 3\")\n",
    "    else:\n",
    "        print(\" it is not divisible by3\")\n"
   ]
  },
  {
   "cell_type": "code",
   "execution_count": null,
   "id": "d53fa448-fd21-4398-af73-c596f9ea4ad6",
   "metadata": {},
   "outputs": [
    {
     "ename": "SyntaxError",
     "evalue": "invalid syntax (2837171433.py, line 2)",
     "output_type": "error",
     "traceback": [
      "\u001b[0;36m  Cell \u001b[0;32mIn[191], line 2\u001b[0;36m\u001b[0m\n\u001b[0;31m    Mutable objects are those which can be modified with indexing whereas imutable objects are those which cannot be modified with help of indexing.\u001b[0m\n\u001b[0m            ^\u001b[0m\n\u001b[0;31mSyntaxError\u001b[0m\u001b[0;31m:\u001b[0m invalid syntax\n"
     ]
    }
   ],
   "source": [
    "# Solution of Q-7\n",
    "Mutable objects are those which can be modified with indexing whereas imutable objects are those which cannot be modified with help of indexing. \n",
    "Example: String is immutable object whereas list is a mutable object"
   ]
  },
  {
   "cell_type": "code",
   "execution_count": null,
   "id": "79dce838-75b9-44b5-8e8f-6777c49bf059",
   "metadata": {},
   "outputs": [],
   "source": [
    "# Example of list\n",
    "l= [1,2,3,\"ayush\", True]\n",
    "l[2]=4"
   ]
  },
  {
   "cell_type": "code",
   "execution_count": null,
   "id": "39e28d54-fc04-4d3d-b6d2-8790741a380e",
   "metadata": {},
   "outputs": [],
   "source": [
    "l"
   ]
  },
  {
   "cell_type": "code",
   "execution_count": null,
   "id": "301376ca-bfd4-4000-9faf-9cbcd42ede36",
   "metadata": {},
   "outputs": [],
   "source": [
    "l[4]=9"
   ]
  },
  {
   "cell_type": "code",
   "execution_count": null,
   "id": "86e1c7e7-8fe2-40a3-8d7c-1e631a0922a1",
   "metadata": {},
   "outputs": [],
   "source": [
    "l"
   ]
  },
  {
   "cell_type": "code",
   "execution_count": null,
   "id": "b7ca7e61-fad1-4c69-8828-d6626e4d0c6c",
   "metadata": {},
   "outputs": [],
   "source": [
    "# Example of string\n",
    "s=\"TRUE\"\n",
    "s[1]"
   ]
  },
  {
   "cell_type": "code",
   "execution_count": null,
   "id": "c6ae84ea-9da9-44ec-92ba-6dae2e451371",
   "metadata": {},
   "outputs": [],
   "source": [
    "s[1] = 'o'\n",
    "s[1]"
   ]
  },
  {
   "cell_type": "code",
   "execution_count": null,
   "id": "1df10f64-b2b3-4382-b620-d8639f077f24",
   "metadata": {},
   "outputs": [],
   "source": []
  }
 ],
 "metadata": {
  "kernelspec": {
   "display_name": "Python 3 (ipykernel)",
   "language": "python",
   "name": "python3"
  },
  "language_info": {
   "codemirror_mode": {
    "name": "ipython",
    "version": 3
   },
   "file_extension": ".py",
   "mimetype": "text/x-python",
   "name": "python",
   "nbconvert_exporter": "python",
   "pygments_lexer": "ipython3",
   "version": "3.10.8"
  }
 },
 "nbformat": 4,
 "nbformat_minor": 5
}
